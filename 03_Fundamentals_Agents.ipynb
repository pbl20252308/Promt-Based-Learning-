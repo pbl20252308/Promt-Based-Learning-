{
  "nbformat": 4,
  "nbformat_minor": 0,
  "metadata": {
    "colab": {
      "provenance": [],
      "gpuType": "T4",
      "authorship_tag": "ABX9TyMYrHQSG1FAY9E4xMyz3wxN",
      "include_colab_link": true
    },
    "kernelspec": {
      "name": "python3",
      "display_name": "Python 3"
    },
    "language_info": {
      "name": "python"
    },
    "accelerator": "GPU"
  },
  "cells": [
    {
      "cell_type": "markdown",
      "metadata": {
        "id": "view-in-github",
        "colab_type": "text"
      },
      "source": [
        "<a href=\"https://colab.research.google.com/github/arishp/srm-ap-genai-2024/blob/main/03_Fundamentals_Agents.ipynb\" target=\"_parent\"><img src=\"https://colab.research.google.com/assets/colab-badge.svg\" alt=\"Open In Colab\"/></a>"
      ]
    },
    {
      "cell_type": "code",
      "execution_count": null,
      "metadata": {
        "id": "Mg-4Ticmi-7x"
      },
      "outputs": [],
      "source": [
        "!pip install langgraph langsmith\n",
        "!pip install langchain langchain_groq langchain_community"
      ]
    },
    {
      "cell_type": "code",
      "source": [
        "from google.colab import userdata\n",
        "groq_key = userdata.get('GROQ_API_KEY')\n",
        "langsmith_key = userdata.get('LANGSMITH_API_KEY')"
      ],
      "metadata": {
        "id": "Zzv92gBzoBnp"
      },
      "execution_count": 1,
      "outputs": []
    },
    {
      "cell_type": "code",
      "source": [
        "import os\n",
        "os.environ['LANGCHAIN_TRACING_V2'] = 'true'\n",
        "os.environ['LANGCHAIN_ENDPOINT'] = \"https://api.smith.langchain.com\"\n",
        "os.environ['LANGCHAIN_API_KEY'] = langsmith_key\n",
        "os.environ['LANGCHAIN_PROJECT'] = \"srm-langgraph-intro\""
      ],
      "metadata": {
        "id": "uEC46fi2pYi0"
      },
      "execution_count": 2,
      "outputs": []
    },
    {
      "cell_type": "code",
      "source": [
        "from langchain_groq import ChatGroq"
      ],
      "metadata": {
        "id": "Oq3gLPZTq0ol"
      },
      "execution_count": 3,
      "outputs": []
    },
    {
      "cell_type": "code",
      "source": [
        "llm = ChatGroq(api_key=groq_key, model_name='gemma2-9b-it')\n",
        "llm"
      ],
      "metadata": {
        "colab": {
          "base_uri": "https://localhost:8080/"
        },
        "id": "HJWzMrtkq5Np",
        "outputId": "aa18f84c-8b3d-4301-c47a-5342a6d9b39b"
      },
      "execution_count": 4,
      "outputs": [
        {
          "output_type": "execute_result",
          "data": {
            "text/plain": [
              "ChatGroq(client=<groq.resources.chat.completions.Completions object at 0x7974a6fa2050>, async_client=<groq.resources.chat.completions.AsyncCompletions object at 0x7974a6fe0c10>, model_name='gemma2-9b-it', model_kwargs={}, groq_api_key=SecretStr('**********'))"
            ]
          },
          "metadata": {},
          "execution_count": 4
        }
      ]
    },
    {
      "cell_type": "code",
      "source": [
        "from typing import Annotated\n",
        "from typing_extensions import TypedDict\n",
        "from langgraph.graph import StateGraph, START, END\n",
        "from langgraph.graph.message import add_messages"
      ],
      "metadata": {
        "id": "9RRmV_vqreO-"
      },
      "execution_count": 7,
      "outputs": []
    },
    {
      "cell_type": "code",
      "source": [
        "class State(TypedDict):\n",
        "  messages: Annotated[list, add_messages]"
      ],
      "metadata": {
        "id": "gWU3Nk_IsXCl"
      },
      "execution_count": 8,
      "outputs": []
    },
    {
      "cell_type": "code",
      "source": [
        "graph_builder = StateGraph(State)"
      ],
      "metadata": {
        "id": "M_3JAAk7tBHK"
      },
      "execution_count": 9,
      "outputs": []
    },
    {
      "cell_type": "code",
      "source": [
        "def chatbot(state:State):\n",
        "  return {'messages':llm.invoke(state['messages'])}"
      ],
      "metadata": {
        "id": "FNLDXcUxtGzM"
      },
      "execution_count": 10,
      "outputs": []
    },
    {
      "cell_type": "code",
      "source": [
        "graph_builder.add_node('chatbot', chatbot)"
      ],
      "metadata": {
        "colab": {
          "base_uri": "https://localhost:8080/"
        },
        "id": "WRJatBOVteLQ",
        "outputId": "c4a35eca-2fa5-4d73-b6c0-4003f7d4da67"
      },
      "execution_count": 11,
      "outputs": [
        {
          "output_type": "execute_result",
          "data": {
            "text/plain": [
              "<langgraph.graph.state.StateGraph at 0x7974a618c040>"
            ]
          },
          "metadata": {},
          "execution_count": 11
        }
      ]
    },
    {
      "cell_type": "code",
      "source": [
        "graph_builder.add_edge(START, 'chatbot')\n",
        "graph_builder.add_edge('chatbot', END)\n",
        "app = graph_builder.compile()"
      ],
      "metadata": {
        "id": "SYgl7e9dti2b"
      },
      "execution_count": 12,
      "outputs": []
    },
    {
      "cell_type": "code",
      "source": [
        "from IPython.display import Image, display\n",
        "try:\n",
        "  display(Image(app.get_graph().draw_mermaid_png()))\n",
        "except Exception:\n",
        "  pass"
      ],
      "metadata": {
        "colab": {
          "base_uri": "https://localhost:8080/",
          "height": 251
        },
        "id": "lv3EWmOmt-4B",
        "outputId": "c0379732-ac51-4fbd-c7d7-882836adaa12"
      },
      "execution_count": 14,
      "outputs": [
        {
          "output_type": "display_data",
          "data": {
            "image/jpeg": "[encoded data removed]",
            "text/plain": [
              "<IPython.core.display.Image object>"
            ]
          },
          "metadata": {}
        }
      ]
    },
    {
      "cell_type": "code",
      "source": [
        "while True:\n",
        "  user_input = input(\"User: \")\n",
        "  if user_input.lower() in ['quit', 'q']:\n",
        "    print('good bye')\n",
        "    break\n",
        "  for event in app.stream({'messages': (\"user\", user_input)}):\n",
        "    print(event.values())\n",
        "    for value in event.values():\n",
        "      print(value['messages'])\n",
        "      print(\"Assistant:\", value['messages'].content)"
      ],
      "metadata": {
        "colab": {
          "base_uri": "https://localhost:8080/"
        },
        "id": "Pde8viTnuM3p",
        "outputId": "5d90cf15-1b35-4dd0-ce46-f566d08c5da8"
      },
      "execution_count": 15,
      "outputs": [
        {
          "output_type": "stream",
          "name": "stdout",
          "text": [
            "User: hello\n",
            "dict_values([{'messages': AIMessage(content='Hello! 👋  \\n\\nWhat can I do for you today? 😊\\n', additional_kwargs={}, response_metadata={'token_usage': {'completion_tokens': 17, 'prompt_tokens': 10, 'total_tokens': 27, 'completion_time': 0.030909091, 'prompt_time': 4e-07, 'queue_time': 0.013341059, 'total_time': 0.030909491}, 'model_name': 'gemma2-9b-it', 'system_fingerprint': 'fp_10c08bf97d', 'finish_reason': 'stop', 'logprobs': None}, id='run-66da68c2-28be-4ae1-a3fd-afca5dc4a110-0', usage_metadata={'input_tokens': 10, 'output_tokens': 17, 'total_tokens': 27})}])\n",
            "content='Hello! 👋  \\n\\nWhat can I do for you today? 😊\\n' additional_kwargs={} response_metadata={'token_usage': {'completion_tokens': 17, 'prompt_tokens': 10, 'total_tokens': 27, 'completion_time': 0.030909091, 'prompt_time': 4e-07, 'queue_time': 0.013341059, 'total_time': 0.030909491}, 'model_name': 'gemma2-9b-it', 'system_fingerprint': 'fp_10c08bf97d', 'finish_reason': 'stop', 'logprobs': None} id='run-66da68c2-28be-4ae1-a3fd-afca5dc4a110-0' usage_metadata={'input_tokens': 10, 'output_tokens': 17, 'total_tokens': 27}\n",
            "Assistant: Hello! 👋  \n",
            "\n",
            "What can I do for you today? 😊\n",
            "\n",
            "User: what is machine learning?\n",
            "dict_values([{'messages': AIMessage(content='Machine learning is a type of artificial intelligence (AI) that allows computer systems to learn from data without being explicitly programmed.\\n\\n**How it Works:**\\n\\nMachine learning algorithms are trained on large datasets. These algorithms identify patterns, relationships, and insights within the data. As the algorithm is exposed to more data, it learns and improves its ability to make predictions or decisions.\\n\\n**Types of Machine Learning:**\\n\\n* **Supervised Learning:** The algorithm is trained on labeled data, where each data point has a known output. The goal is to learn a mapping from input to output. Examples include image classification and spam detection.\\n* **Unsupervised Learning:** The algorithm is trained on unlabeled data. The goal is to discover hidden patterns or structures in the data. Examples include clustering and anomaly detection.\\n* **Reinforcement Learning:** The algorithm learns by interacting with an environment and receiving rewards or penalties for its actions. The goal is to learn a policy that maximizes rewards. Examples include game playing and robotics.\\n\\n**Applications of Machine Learning:**\\n\\nMachine learning has a wide range of applications, including:\\n\\n* **Image and Speech Recognition:** Identifying objects, faces, and speech patterns.\\n* **Natural Language Processing:** Understanding and generating human language.\\n* **Recommendation Systems:** Suggesting products, movies, or music based on user preferences.\\n* **Fraud Detection:** Identifying fraudulent transactions.\\n* **Medical Diagnosis:** Assisting in diagnosing diseases.\\n* **Predictive Maintenance:** Predicting equipment failures.\\n\\n**Benefits of Machine Learning:**\\n\\n* **Automation:** Automates tasks and processes.\\n* **Improved Accuracy:** Can achieve higher accuracy than traditional methods.\\n* **Data-Driven Insights:** Extracts valuable insights from data.\\n* **Personalization:** Enables personalized experiences.\\n* **Continuous Improvement:** Learns and improves over time.\\n\\n\\nLet me know if you have any other questions!\\n', additional_kwargs={}, response_metadata={'token_usage': {'completion_tokens': 388, 'prompt_tokens': 14, 'total_tokens': 402, 'completion_time': 0.705454545, 'prompt_time': 8.767e-05, 'queue_time': 0.013656429, 'total_time': 0.705542215}, 'model_name': 'gemma2-9b-it', 'system_fingerprint': 'fp_10c08bf97d', 'finish_reason': 'stop', 'logprobs': None}, id='run-613c979d-3cb1-432e-9228-2bfbf594c559-0', usage_metadata={'input_tokens': 14, 'output_tokens': 388, 'total_tokens': 402})}])\n",
            "content='Machine learning is a type of artificial intelligence (AI) that allows computer systems to learn from data without being explicitly programmed.\\n\\n**How it Works:**\\n\\nMachine learning algorithms are trained on large datasets. These algorithms identify patterns, relationships, and insights within the data. As the algorithm is exposed to more data, it learns and improves its ability to make predictions or decisions.\\n\\n**Types of Machine Learning:**\\n\\n* **Supervised Learning:** The algorithm is trained on labeled data, where each data point has a known output. The goal is to learn a mapping from input to output. Examples include image classification and spam detection.\\n* **Unsupervised Learning:** The algorithm is trained on unlabeled data. The goal is to discover hidden patterns or structures in the data. Examples include clustering and anomaly detection.\\n* **Reinforcement Learning:** The algorithm learns by interacting with an environment and receiving rewards or penalties for its actions. The goal is to learn a policy that maximizes rewards. Examples include game playing and robotics.\\n\\n**Applications of Machine Learning:**\\n\\nMachine learning has a wide range of applications, including:\\n\\n* **Image and Speech Recognition:** Identifying objects, faces, and speech patterns.\\n* **Natural Language Processing:** Understanding and generating human language.\\n* **Recommendation Systems:** Suggesting products, movies, or music based on user preferences.\\n* **Fraud Detection:** Identifying fraudulent transactions.\\n* **Medical Diagnosis:** Assisting in diagnosing diseases.\\n* **Predictive Maintenance:** Predicting equipment failures.\\n\\n**Benefits of Machine Learning:**\\n\\n* **Automation:** Automates tasks and processes.\\n* **Improved Accuracy:** Can achieve higher accuracy than traditional methods.\\n* **Data-Driven Insights:** Extracts valuable insights from data.\\n* **Personalization:** Enables personalized experiences.\\n* **Continuous Improvement:** Learns and improves over time.\\n\\n\\nLet me know if you have any other questions!\\n' additional_kwargs={} response_metadata={'token_usage': {'completion_tokens': 388, 'prompt_tokens': 14, 'total_tokens': 402, 'completion_time': 0.705454545, 'prompt_time': 8.767e-05, 'queue_time': 0.013656429, 'total_time': 0.705542215}, 'model_name': 'gemma2-9b-it', 'system_fingerprint': 'fp_10c08bf97d', 'finish_reason': 'stop', 'logprobs': None} id='run-613c979d-3cb1-432e-9228-2bfbf594c559-0' usage_metadata={'input_tokens': 14, 'output_tokens': 388, 'total_tokens': 402}\n",
            "Assistant: Machine learning is a type of artificial intelligence (AI) that allows computer systems to learn from data without being explicitly programmed.\n",
            "\n",
            "**How it Works:**\n",
            "\n",
            "Machine learning algorithms are trained on large datasets. These algorithms identify patterns, relationships, and insights within the data. As the algorithm is exposed to more data, it learns and improves its ability to make predictions or decisions.\n",
            "\n",
            "**Types of Machine Learning:**\n",
            "\n",
            "* **Supervised Learning:** The algorithm is trained on labeled data, where each data point has a known output. The goal is to learn a mapping from input to output. Examples include image classification and spam detection.\n",
            "* **Unsupervised Learning:** The algorithm is trained on unlabeled data. The goal is to discover hidden patterns or structures in the data. Examples include clustering and anomaly detection.\n",
            "* **Reinforcement Learning:** The algorithm learns by interacting with an environment and receiving rewards or penalties for its actions. The goal is to learn a policy that maximizes rewards. Examples include game playing and robotics.\n",
            "\n",
            "**Applications of Machine Learning:**\n",
            "\n",
            "Machine learning has a wide range of applications, including:\n",
            "\n",
            "* **Image and Speech Recognition:** Identifying objects, faces, and speech patterns.\n",
            "* **Natural Language Processing:** Understanding and generating human language.\n",
            "* **Recommendation Systems:** Suggesting products, movies, or music based on user preferences.\n",
            "* **Fraud Detection:** Identifying fraudulent transactions.\n",
            "* **Medical Diagnosis:** Assisting in diagnosing diseases.\n",
            "* **Predictive Maintenance:** Predicting equipment failures.\n",
            "\n",
            "**Benefits of Machine Learning:**\n",
            "\n",
            "* **Automation:** Automates tasks and processes.\n",
            "* **Improved Accuracy:** Can achieve higher accuracy than traditional methods.\n",
            "* **Data-Driven Insights:** Extracts valuable insights from data.\n",
            "* **Personalization:** Enables personalized experiences.\n",
            "* **Continuous Improvement:** Learns and improves over time.\n",
            "\n",
            "\n",
            "Let me know if you have any other questions!\n",
            "\n",
            "User: q\n",
            "good bye\n"
          ]
        }
      ]
    },
    {
      "cell_type": "code",
      "source": [],
      "metadata": {
        "id": "X2tDJK1cvL-V"
      },
      "execution_count": 15,
      "outputs": []
    }
  ]
}