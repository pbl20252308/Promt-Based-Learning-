{
  "nbformat": 4,
  "nbformat_minor": 0,
  "metadata": {
    "colab": {
      "provenance": [],
      "gpuType": "T4",
      "authorship_tag": "ABX9TyPFpwldjgcbzbNL2xv387sH",
      "include_colab_link": true
    },
    "kernelspec": {
      "name": "python3",
      "display_name": "Python 3"
    },
    "language_info": {
      "name": "python"
    },
    "accelerator": "GPU"
  },
  "cells": [
    {
      "cell_type": "markdown",
      "metadata": {
        "id": "view-in-github",
        "colab_type": "text"
      },
      "source": [
        "<a href=\"https://colab.research.google.com/github/arishp/srm-ap-genai-2024/blob/main/05_Multi_Agent_Essay_Writer.ipynb\" target=\"_parent\"><img src=\"https://colab.research.google.com/assets/colab-badge.svg\" alt=\"Open In Colab\"/></a>"
      ]
    },
    {
      "cell_type": "code",
      "source": [
        "# !pip install langgraph\n",
        "# !pip install langchain-groq\n",
        "# !pip install tavily-python"
      ],
      "metadata": {
        "id": "LN_2k87lR33x"
      },
      "execution_count": null,
      "outputs": []
    },
    {
      "cell_type": "code",
      "execution_count": 50,
      "metadata": {
        "id": "kLcQ_ktIRnWI"
      },
      "outputs": [],
      "source": [
        "from langgraph.graph import StateGraph, END\n",
        "from typing import TypedDict, Annotated, List\n",
        "import operator\n",
        "from langgraph.checkpoint.memory import MemorySaver\n",
        "from langchain_core.messages import AnyMessage, SystemMessage, HumanMessage, AIMessage, ChatMessage\n",
        "from pydantic import BaseModel\n",
        "from langchain_groq import ChatGroq\n",
        "from google.colab import userdata\n",
        "from tavily import TavilyClient"
      ]
    },
    {
      "cell_type": "code",
      "source": [
        "groq_key=userdata.get(\"GROQ_API_KEY\")\n",
        "tavily_key = userdata.get(\"TAVILY_API_KEY\")"
      ],
      "metadata": {
        "id": "swLoOLJRTBNt"
      },
      "execution_count": 51,
      "outputs": []
    },
    {
      "cell_type": "code",
      "source": [
        "class AgentState(TypedDict):\n",
        "    task: str\n",
        "    lnode: str\n",
        "    plan: str\n",
        "    draft: str\n",
        "    critique: str\n",
        "    content: List[str]\n",
        "    queries: List[str]\n",
        "    revision_number: int\n",
        "    max_revisions: int\n",
        "    count: Annotated[int, operator.add]"
      ],
      "metadata": {
        "id": "IhfzygBWS5N3"
      },
      "execution_count": 42,
      "outputs": []
    },
    {
      "cell_type": "code",
      "source": [
        "class Queries(BaseModel):\n",
        "    queries: List[str]"
      ],
      "metadata": {
        "id": "4R7IJ6JsX2D4"
      },
      "execution_count": 43,
      "outputs": []
    },
    {
      "cell_type": "code",
      "source": [
        "class ewriter():\n",
        "    def __init__(self):\n",
        "        self.model=ChatGroq(api_key=groq_key, model_name=\"Gemma2-9b-It\")\n",
        "        self.PLAN_PROMPT = (\"You are an expert writer tasked with writing a high level outline of a short 3 paragraph essay. \"\n",
        "                            \"Write such an outline for the user provided topic. Give the three main headers of an outline of \"\n",
        "                             \"the essay along with any relevant notes or instructions for the sections. \")\n",
        "        self.WRITER_PROMPT = (\"You are an essay assistant tasked with writing excellent 3 paragraph essays. \"\n",
        "                              \"Generate the best essay possible for the user's request and the initial outline. \"\n",
        "                              \"If the user provides critique, respond with a revised version of your previous attempts. \"\n",
        "                              \"Utilize all the information below as needed: \\n\"\n",
        "                              \"------\\n\"\n",
        "                              \"{content}\")\n",
        "        self.RESEARCH_PLAN_PROMPT = (\"You are a researcher charged with providing information that can \"\n",
        "                                     \"be used when writing the following essay. Generate a list of search \"\n",
        "                                     \"queries that will gather \"\n",
        "                                     \"any relevant information. Only generate 3 queries max.\")\n",
        "        self.REFLECTION_PROMPT = (\"You are a teacher grading an 3 paragraph essay submission. \"\n",
        "                                  \"Generate critique and recommendations for the user's submission. \"\n",
        "                                  \"Provide detailed recommendations, including requests for length, depth, style, etc.\")\n",
        "        self.RESEARCH_CRITIQUE_PROMPT = (\"You are a researcher charged with providing information that can \"\n",
        "                                         \"be used when making any requested revisions (as outlined below). \"\n",
        "                                         \"Generate a list of search queries that will gather any relevant information. \"\n",
        "                                         \"Only generate 2 queries max.\")\n",
        "        self.tavily = TavilyClient(api_key=tavily_key)\n",
        "        builder = StateGraph(AgentState)\n",
        "        builder.add_node(\"planner\", self.plan_node)\n",
        "        builder.add_node(\"research_plan\", self.research_plan_node)\n",
        "        builder.add_node(\"generate\", self.generation_node)\n",
        "        builder.add_node(\"reflect\", self.reflection_node)\n",
        "        builder.add_node(\"research_critique\", self.research_critique_node)\n",
        "        builder.set_entry_point(\"planner\")\n",
        "        builder.add_conditional_edges(\n",
        "            \"generate\",\n",
        "            self.should_continue,\n",
        "            {END: END, \"reflect\": \"reflect\"}\n",
        "        )\n",
        "        builder.add_edge(\"planner\", \"research_plan\")\n",
        "        builder.add_edge(\"research_plan\", \"generate\")\n",
        "        builder.add_edge(\"reflect\", \"research_critique\")\n",
        "        builder.add_edge(\"research_critique\", \"generate\")\n",
        "        memory = MemorySaver()\n",
        "        self.graph = builder.compile(\n",
        "            checkpointer=memory,\n",
        "            # interrupt_after=['planner', 'generate', 'reflect', 'research_plan', 'research_critique']\n",
        "        )\n",
        "\n",
        "    def plan_node(self, state: AgentState):\n",
        "        messages = [\n",
        "            SystemMessage(content=self.PLAN_PROMPT),\n",
        "            HumanMessage(content=state['task'])\n",
        "        ]\n",
        "        response = self.model.invoke(messages)\n",
        "        return {\"plan\": response.content,\n",
        "               \"lnode\": \"planner\",\n",
        "                \"count\": 1,\n",
        "               }\n",
        "    def research_plan_node(self, state: AgentState):\n",
        "        queries = self.model.with_structured_output(Queries).invoke([\n",
        "            SystemMessage(content=self.RESEARCH_PLAN_PROMPT),\n",
        "            HumanMessage(content=state['task'])\n",
        "        ])\n",
        "        content = state['content'] or []  # add to content\n",
        "        for q in queries.queries:\n",
        "            response = self.tavily.search(query=q, max_results=2)\n",
        "            for r in response['results']:\n",
        "                content.append(r['content'])\n",
        "        return {\"content\": content,\n",
        "                \"queries\": queries.queries,\n",
        "               \"lnode\": \"research_plan\",\n",
        "                \"count\": 1,\n",
        "               }\n",
        "    def generation_node(self, state: AgentState):\n",
        "        content = \"\\n\\n\".join(state['content'] or [])\n",
        "        user_message = HumanMessage(\n",
        "            content=f\"{state['task']}\\n\\nHere is my plan:\\n\\n{state['plan']}\")\n",
        "        messages = [\n",
        "            SystemMessage(\n",
        "                content=self.WRITER_PROMPT.format(content=content)\n",
        "            ),\n",
        "            user_message\n",
        "            ]\n",
        "        response = self.model.invoke(messages)\n",
        "        return {\n",
        "            \"draft\": response.content,\n",
        "            \"revision_number\": state.get(\"revision_number\", 1) + 1,\n",
        "            \"lnode\": \"generate\",\n",
        "            \"count\": 1,\n",
        "        }\n",
        "    def reflection_node(self, state: AgentState):\n",
        "        messages = [\n",
        "            SystemMessage(content=self.REFLECTION_PROMPT),\n",
        "            HumanMessage(content=state['draft'])\n",
        "        ]\n",
        "        response = self.model.invoke(messages)\n",
        "        return {\"critique\": response.content,\n",
        "               \"lnode\": \"reflect\",\n",
        "                \"count\": 1,\n",
        "        }\n",
        "    def research_critique_node(self, state: AgentState):\n",
        "        queries = self.model.with_structured_output(Queries).invoke([\n",
        "            SystemMessage(content=self.RESEARCH_CRITIQUE_PROMPT),\n",
        "            HumanMessage(content=state['critique'])\n",
        "        ])\n",
        "        content = state['content'] or []\n",
        "        for q in queries.queries:\n",
        "            response = self.tavily.search(query=q, max_results=2)\n",
        "            for r in response['results']:\n",
        "                content.append(r['content'])\n",
        "        return {\"content\": content,\n",
        "               \"lnode\": \"research_critique\",\n",
        "                \"count\": 1,\n",
        "        }\n",
        "    def should_continue(self, state):\n",
        "        if state[\"revision_number\"] > state[\"max_revisions\"]:\n",
        "            return END\n",
        "        return \"reflect\""
      ],
      "metadata": {
        "id": "_FrJxRjFX7U0"
      },
      "execution_count": 52,
      "outputs": []
    },
    {
      "cell_type": "code",
      "source": [
        "MultiAgent = ewriter()"
      ],
      "metadata": {
        "id": "DaSTmJ9_ap80"
      },
      "execution_count": 53,
      "outputs": []
    },
    {
      "cell_type": "code",
      "source": [
        "from IPython.display import Image, display\n",
        "\n",
        "try:\n",
        "    display(Image(MultiAgent.graph.get_graph().draw_mermaid_png()))\n",
        "except Exception:\n",
        "    # This requires some extra dependencies and is optional\n",
        "    pass"
      ],
      "metadata": {
        "colab": {
          "base_uri": "https://localhost:8080/",
          "height": 563
        },
        "id": "LCayAoNiVm3n",
        "outputId": "fceac946-9720-470b-983a-cf0ec5cc859b"
      },
      "execution_count": 54,
      "outputs": [
        {
          "output_type": "display_data",
          "data": {
            "image/jpeg": "[encoded data removed]",
            "text/plain": [
              "<IPython.core.display.Image object>"
            ]
          },
          "metadata": {}
        }
      ]
    },
    {
      "cell_type": "code",
      "source": [
        "topic = 'pizza shop'\n",
        "initial_input = {'task': topic,\"max_revisions\": 2,\"revision_number\": 0,\n",
        "                 'lnode': \"\", 'planner': \"no plan\", 'draft': \"no draft\", 'critique': \"no critique\",\n",
        "                 'content': [\"no content\",], 'queries': \"no queries\", 'count':0}\n",
        "thread = {\"configurable\": {\"thread_id\": \"1\"}}"
      ],
      "metadata": {
        "id": "EMg9WmTTbEIX"
      },
      "execution_count": 56,
      "outputs": []
    },
    {
      "cell_type": "code",
      "source": [
        "for s in MultiAgent.graph.stream(initial_input, thread):\n",
        "    print(s)"
      ],
      "metadata": {
        "colab": {
          "base_uri": "https://localhost:8080/"
        },
        "id": "nBn548wWVqO6",
        "outputId": "ed53fb21-ae7f-4aaa-de62-de22f08f2500"
      },
      "execution_count": 57,
      "outputs": [
        {
          "output_type": "stream",
          "name": "stdout",
          "text": [
            "{'planner': {'lnode': 'planner', 'plan': \"Here's a possible 3-paragraph essay outline about a pizza shop:\\n\\n**I. Introduction**\\n*   Hook: Start with a captivating sentence about the universal appeal of pizza or a personal anecdote about a memorable pizza experience.\\n*   Introduce the topic: Briefly mention the significance of pizza shops in communities and their role in providing delicious food and social gathering spaces.\\n*   Thesis Statement: State your main argument about pizza shops. This could be about their impact on a community, the evolution of pizza styles, the art of pizza making, or any other interesting aspect you want to explore.\\n\\n**II. Body Paragraph 1**\\n*   **Topic Sentence:**  Elaborate on your thesis statement with a specific point about pizza shops.\\n*   Supporting Evidence:  Provide details, examples, and/or anecdotes to support your topic sentence.\\n    *   Consider discussing the history of pizza shops, the different types of pizza available, the social aspects of eating pizza, or the economic impact of pizza shops.\\n*   Explanation/Analysis: Connect your evidence back to your thesis statement and explain its significance.\\n\\n**III. Body Paragraph 2**\\n*   **Topic Sentence:**  Present a second point related to your thesis statement. \\n*   Supporting Evidence: Provide more details, examples, or anecdotes to support this new point.\\n    *   You could discuss the unique qualities of a specific pizza shop, the challenges faced by pizza shop owners, or the future trends in the pizza industry.\\n*   Explanation/Analysis:  Again, link your evidence back to your thesis statement and explain its importance to your overall argument.\\n\\n**IV. Conclusion**\\n*   Restate your Thesis Statement: Briefly summarize your main argument in a new way.\\n*   Summarize Key Points:  Remind the reader of the most important points you made in your essay.\\n*   Concluding Thought:  End with a final thought that leaves a lasting impression on the reader. This could be a call to action, a prediction about the future of pizza shops, or a reflection on the personal significance of pizza. \\n\\n\\n\\nLet me know if you'd like to brainstorm specific thesis statements or delve deeper into any of these sections!\\n\", 'count': 1}}\n",
            "{'research_plan': {'lnode': 'research_plan', 'content': ['no content', \"Whether it's a thin-crust slice from a hole-in-the-wall joint in one of the outer boroughs or a fancy piping hot pie from an upscale restaurant in Manhattan, New Yorkers can agree on one thing: the cheesy, crusty, saucy slice is the unofficial king of the food scene in the Big Apple.\\n Paulie Gee's\\nIf you ask any resident of Greenpoint, a neighborhood at the northern tip of Brooklyn, where to get the neighborhood's best pizza, chances are they'll point you in the direction of Paulie Gee's, which opened on Greenpoint Avenue in 2010 and has remained the area's premier pizza destination ever since. And whether you're venturing up to the original historic location up on First Avenue in Harlem or one of the other locations around the city, we recommend you stick with the classic cheese slice, which is what put this renowned pizzeria on the map, and why it's made our list.\\n Lucali\\nTucked in among the picturesque brownstones in the quaint Brooklyn neighborhood of Carroll Gardens, the pizza at Lucali has become one of the most sought-after pies in the borough since the restaurant opened its doors in 2006. The current location on Orchard Street in Manhattan's historic Lower East Side is the fifth iteration of the famed pizzeria, which has won numerous accolades for the quality of its pies, and some even claim that it serves NYC's best pizza, which is why it made it onto our list.\", \"Popular on Time Out\\n[title]\\nMore on iconic eats\\n[title]\\nDiscover Time Out original video\\nBy entering your email address you agree to our Terms of Use and Privacy Policy and consent to receive emails from Time Out about news, events, offers and partner promotions.\\n🙌 It includes copious amounts of rich, tangy tomato sauce, a single sheet of mozzarella and sharp and mild grated cheeses atop a thin, crispy crust.\\n21.\\xa0Louie & Ernie’s\\nLouie and Ernie's homey facade is as iconic as any pizza shop in town; a true\\xa0hearth\\xa0for slice lovers and pie devotees. Best New York pizza\\n1.\\xa0Di Fara Pizza\\nYes, you may have to wait for more than an hour to try this Midwood institution,\\xa0but a trip to the original standard-setting\\xa0shop founded by the late\\xa0Domenico DeMarco in 1965 is essential for pizza lovers and dabblers everywhere. 24.\\xa0Saraghina\\nNamed for a character in the film\\xa08 1/2, Saraghina's pizza's at least a 9.\\xa0Mingle your Coppa & Carciofi\\xa0(mozzarella, hot coppa, roasted spicy artichokes and basil) with wine by the liter; an option there ought to be more of in this town.\\n The namesake pie, the Rubirosa Supreme,\\xa0features a salty-sweet medley\\xa0of hand-cut spicy pepperoni, diced basil, and mini\\xa0meatballs atop a firm crust that's both strong enough to withstand the weight of the ingredients and soft enough to fold like you mean it.\\n\", 'Check out our map below revealing the most popular pizza joint in every major U.S. city and its Yelp rating. The Most Popular Pizzeria in Every City Atlanta, Georgia: Antico Pizza (4.3)', \"Ribalta (New York City) Ken's Artisan Pizza (Portland, Oregon) Jay's (Kenmore, New York) Don Antonio (New York City) Pizzeria Sei (Los Angeles) La Leggenda (Miami) Robert's (Chicago) 50 Top ...\", \"Pizza & Wings Delivery. Introducing our new Late Night food delivery and carryout! Now you can order your favorites until midnight or later. Indulge in a late-night feast with Pizza Hut. We've got your favorite pizzas, wings, desserts, and more, all ready to satisfy your cravings! Whether you're winding down for the night or need a delicious ...\", 'Does Pizza Hut Offer Late Night Delivery? Order Pizza Hut and let us bring the party to you. Use our store locator to check if your local Pizza Hut offers late night delivery. Thousands of stores are open till 11 pm. or later so what are you waiting for? Start your order now and hot pizza, wings and more will follow straight to your door.'], 'queries': ['best pizza shops near me', 'highly rated pizza restaurants in [city]', 'pizza shops with delivery open late'], 'count': 1}}\n",
            "{'generate': {'lnode': 'generate', 'draft': \"## The Slice of Life: Why Pizza Shops Matter\\n\\nPizza, a universally adored dish, transcends cultural boundaries and unites people with its simple yet irresistible appeal. While countless pizza chains exist, it's the neighborhood pizza shops that truly hold a special place in our hearts and communities. These establishments are more than just places to grab a quick slice; they are gathering spots, cultural landmarks, and testaments to the enduring power of good food and friendly service. \\n\\nOne of the defining characteristics of a great pizza shop is its ability to become a beloved local institution. Take, for example, the legendary Di Fara Pizza in Brooklyn. With its meticulous dough preparation and the charismatic presence of its founder, Domenico DeMarco, Di Fara has become a pilgrimage site for pizza enthusiasts worldwide. Long lines and wait times are a badge of honor, a testament to the unwavering devotion of its patrons. These shops often serve as social hubs, where regulars gather to share stories, catch up with friends, and enjoy a slice of home-cooked goodness. The warm atmosphere, the familiar faces, and the comforting aroma of baking dough create a sense of belonging and shared experience. \\n\\nBeyond their social significance, pizza shops also play a vital role in supporting local economies. They provide employment opportunities, source ingredients from nearby suppliers, and contribute to the vibrancy of their neighborhoods. In a world increasingly dominated by chain restaurants, these independent businesses offer a unique and irreplaceable flavor, a reminder of the importance of supporting local businesses and cherishing the traditions that make our communities special.  \\n\\n\\n\\n\", 'revision_number': 1, 'count': 1}}\n",
            "{'reflect': {'lnode': 'reflect', 'critique': 'This is a solid start to an essay exploring the importance of neighborhood pizza shops! You\\'ve identified some key strengths: a clear thesis statement, engaging examples, and a thoughtful exploration of social and economic impact. \\n\\nHere are some suggestions to elevate your essay:\\n\\n**Length & Depth:**\\n\\n* **Expand on your examples:** While Di Fara is a great example, consider adding another or two pizza shops from different areas or with unique characteristics. This will broaden your scope and provide more nuanced insights.\\n* **Dive deeper into the \"why\":**  You mention the \"enduring power of good food and friendly service,\" but could elaborate on this. What makes the food so good? What kind of service fosters a sense of community? Explore the specific elements that make these shops special.\\n\\n**Style & Structure:**\\n\\n* **Vary your sentence structure:**  Notice that many sentences start with \"These shops\" or \"Pizza shops.\" Experiment with different sentence beginnings and structures to create a more engaging flow.\\n* **Show, don\\'t tell:** Instead of stating that the atmosphere is warm and welcoming, describe the sights, sounds, and smells that contribute to that feeling.  Instead of saying the pizza is delicious, describe a specific topping combination or the texture of the crust.\\n* **Refine your conclusion:**  Your current conclusion is a bit repetitive.  Instead of simply restating your points, offer a final, thought-provoking statement about the enduring value of neighborhood pizza shops in the face of globalization and changing dining trends.\\n\\n**Additional Tips:**\\n\\n* **Consider your audience:** Who are you writing this essay for?  Adjust your tone and level of detail accordingly.\\n* **Read your essay aloud:** This will help you identify awkward phrasing and improve the overall flow.\\n* **Get feedback from others:** Ask a friend, family member, or teacher to read your essay and provide constructive criticism.\\n\\n\\n\\nBy incorporating these suggestions, you can transform your good essay into a truly exceptional one! \\n', 'count': 1}}\n",
            "{'research_critique': {'lnode': 'research_critique', 'content': ['no content', \"Whether it's a thin-crust slice from a hole-in-the-wall joint in one of the outer boroughs or a fancy piping hot pie from an upscale restaurant in Manhattan, New Yorkers can agree on one thing: the cheesy, crusty, saucy slice is the unofficial king of the food scene in the Big Apple.\\n Paulie Gee's\\nIf you ask any resident of Greenpoint, a neighborhood at the northern tip of Brooklyn, where to get the neighborhood's best pizza, chances are they'll point you in the direction of Paulie Gee's, which opened on Greenpoint Avenue in 2010 and has remained the area's premier pizza destination ever since. And whether you're venturing up to the original historic location up on First Avenue in Harlem or one of the other locations around the city, we recommend you stick with the classic cheese slice, which is what put this renowned pizzeria on the map, and why it's made our list.\\n Lucali\\nTucked in among the picturesque brownstones in the quaint Brooklyn neighborhood of Carroll Gardens, the pizza at Lucali has become one of the most sought-after pies in the borough since the restaurant opened its doors in 2006. The current location on Orchard Street in Manhattan's historic Lower East Side is the fifth iteration of the famed pizzeria, which has won numerous accolades for the quality of its pies, and some even claim that it serves NYC's best pizza, which is why it made it onto our list.\", \"Popular on Time Out\\n[title]\\nMore on iconic eats\\n[title]\\nDiscover Time Out original video\\nBy entering your email address you agree to our Terms of Use and Privacy Policy and consent to receive emails from Time Out about news, events, offers and partner promotions.\\n🙌 It includes copious amounts of rich, tangy tomato sauce, a single sheet of mozzarella and sharp and mild grated cheeses atop a thin, crispy crust.\\n21.\\xa0Louie & Ernie’s\\nLouie and Ernie's homey facade is as iconic as any pizza shop in town; a true\\xa0hearth\\xa0for slice lovers and pie devotees. Best New York pizza\\n1.\\xa0Di Fara Pizza\\nYes, you may have to wait for more than an hour to try this Midwood institution,\\xa0but a trip to the original standard-setting\\xa0shop founded by the late\\xa0Domenico DeMarco in 1965 is essential for pizza lovers and dabblers everywhere. 24.\\xa0Saraghina\\nNamed for a character in the film\\xa08 1/2, Saraghina's pizza's at least a 9.\\xa0Mingle your Coppa & Carciofi\\xa0(mozzarella, hot coppa, roasted spicy artichokes and basil) with wine by the liter; an option there ought to be more of in this town.\\n The namesake pie, the Rubirosa Supreme,\\xa0features a salty-sweet medley\\xa0of hand-cut spicy pepperoni, diced basil, and mini\\xa0meatballs atop a firm crust that's both strong enough to withstand the weight of the ingredients and soft enough to fold like you mean it.\\n\", 'Check out our map below revealing the most popular pizza joint in every major U.S. city and its Yelp rating. The Most Popular Pizzeria in Every City Atlanta, Georgia: Antico Pizza (4.3)', \"Ribalta (New York City) Ken's Artisan Pizza (Portland, Oregon) Jay's (Kenmore, New York) Don Antonio (New York City) Pizzeria Sei (Los Angeles) La Leggenda (Miami) Robert's (Chicago) 50 Top ...\", \"Pizza & Wings Delivery. Introducing our new Late Night food delivery and carryout! Now you can order your favorites until midnight or later. Indulge in a late-night feast with Pizza Hut. We've got your favorite pizzas, wings, desserts, and more, all ready to satisfy your cravings! Whether you're winding down for the night or need a delicious ...\", 'Does Pizza Hut Offer Late Night Delivery? Order Pizza Hut and let us bring the party to you. Use our store locator to check if your local Pizza Hut offers late night delivery. Thousands of stores are open till 11 pm. or later so what are you waiting for? Start your order now and hot pizza, wings and more will follow straight to your door.', 'The act of discussing a pizza may break down barriers and foster a sense of sociability with customers. ... electronic systems to get to a more comprehensive target market while sustaining a personal link along with their neighborhood community. Final thought. Pizza restaurants are even more than just puts to consume- they are actually area ...', 'Creating a sense of community within your neighborhood can be a fulfilling endeavor, and what better way to do it than by hosting a neighborhood pizza night? Making pizza is a truly unique and engaging community activity where everyone gets involved, from kids to adults. Unlike grilling burgers, where one person is usually in charge, pizza-making invites participation at every step. This ...', 'Research has shown that when you keep your money in the community, it gets reinvested into the community. In fact, small business owners tend to donate 250% more to community-based organizations and spend more of their profits in the community, rather than somewhere else. Your Local Pizza Shop Offers Unique Options.', 'The tradition of enjoying a Friday night pizza from the same place has a nostalgic and comforting appeal, creating a sense of continuity and shared history among community members. The Pizzeria as ...'], 'count': 1}}\n",
            "{'generate': {'lnode': 'generate', 'draft': \"##  A Slice of Community:  The Enduring Appeal of Pizza Shops \\n\\nPizza, that universally beloved dish of cheesy goodness and tangy sauce, transcends cultural boundaries.  More than just a meal, a slice of pizza often represents a shared experience, a moment of comfort, and a connection to community.  Pizza shops, in particular, serve as vital gathering places, offering not only delicious food but also a sense of belonging and familiarity. From late-night study sessions to family celebrations, these establishments become woven into the fabric of neighborhood life.\\n\\nOne of the most enduring appeals of pizza shops lies in their ability to create a sense of community.  Locals flock to their favorite spots, drawn in by the familiar faces behind the counter, the aroma of freshly baked dough, and the comforting chatter of fellow patrons. Whether it's a bustling joint or a cozy hole-in-the-wall, pizza shops provide a space for people to connect, share stories, and build relationships.  This sense of belonging is further strengthened by the shared experience of enjoying a delicious slice, a ritual that transcends age, background, and social status.\\n\\nFurthermore, pizza shops often play a crucial role in supporting local economies.  By sourcing ingredients from nearby farms and businesses, they contribute to the growth and vitality of their communities.  Moreover, they create jobs, provide training opportunities, and become integral parts of local businesses associations, contributing to the overall economic well-being of the area.  In a world increasingly dominated by global chains, the enduring appeal of pizza shops lies in their ability to offer a personalized experience, a sense of community, and a tangible connection to the local landscape.\\n\\n\\n\\n\", 'revision_number': 2, 'count': 1}}\n",
            "{'reflect': {'lnode': 'reflect', 'critique': 'This is a solid start to an essay about the enduring appeal of pizza shops! You\\'ve clearly identified a strong central theme and provided some good supporting points. Here are some suggestions for improvement:\\n\\n**Content & Depth:**\\n\\n* **Expand on the \"sense of community\" aspect:** While you mention it, you could delve deeper into *how* pizza shops foster this feeling.  Are there specific events or traditions that occur? Do people know each other by name? Discuss the social dynamics that make these places feel like a second home.\\n* **Explore the \"local economy\" point further:** You mention sourcing ingredients locally and job creation, but consider adding specific examples. Can you name a local farm or business that supplies a pizza shop you know?  How do these relationships benefit both parties?\\n* **Consider adding a counter-argument:**  While you praise local pizza shops, acknowledge that chain pizza restaurants also have their appeal (convenience, consistency, etc.).  Then, explain why the unique qualities of local pizza shops outweigh these advantages.\\n\\n**Style & Organization:**\\n\\n* **Vary sentence structure:**  Many sentences follow a similar subject-verb-object pattern.  Experiment with different sentence lengths and structures to create a more engaging rhythm.\\n* **Show, don\\'t tell:** Instead of simply stating that pizza shops are \"comforting,\" describe the atmosphere, the smells, the sounds, and the overall feeling a patron might experience.  Use vivid language to bring your points to life.\\n* **Proofread carefully:** There is a repetition of \"the local landscape\" at the end. \\n\\n**Length:**\\n\\n* Aim for a slightly longer essay.  The current length feels a bit rushed.  Expand on the points mentioned above to create a more comprehensive analysis.\\n\\n**Overall:**\\n\\nYou have a good foundation for a compelling essay. By developing your ideas further, adding specific examples, and refining your style, you can elevate this piece to a higher level.\\n\\n\\n', 'count': 1}}\n",
            "{'research_critique': {'lnode': 'research_critique', 'content': ['no content', \"Whether it's a thin-crust slice from a hole-in-the-wall joint in one of the outer boroughs or a fancy piping hot pie from an upscale restaurant in Manhattan, New Yorkers can agree on one thing: the cheesy, crusty, saucy slice is the unofficial king of the food scene in the Big Apple.\\n Paulie Gee's\\nIf you ask any resident of Greenpoint, a neighborhood at the northern tip of Brooklyn, where to get the neighborhood's best pizza, chances are they'll point you in the direction of Paulie Gee's, which opened on Greenpoint Avenue in 2010 and has remained the area's premier pizza destination ever since. And whether you're venturing up to the original historic location up on First Avenue in Harlem or one of the other locations around the city, we recommend you stick with the classic cheese slice, which is what put this renowned pizzeria on the map, and why it's made our list.\\n Lucali\\nTucked in among the picturesque brownstones in the quaint Brooklyn neighborhood of Carroll Gardens, the pizza at Lucali has become one of the most sought-after pies in the borough since the restaurant opened its doors in 2006. The current location on Orchard Street in Manhattan's historic Lower East Side is the fifth iteration of the famed pizzeria, which has won numerous accolades for the quality of its pies, and some even claim that it serves NYC's best pizza, which is why it made it onto our list.\", \"Popular on Time Out\\n[title]\\nMore on iconic eats\\n[title]\\nDiscover Time Out original video\\nBy entering your email address you agree to our Terms of Use and Privacy Policy and consent to receive emails from Time Out about news, events, offers and partner promotions.\\n🙌 It includes copious amounts of rich, tangy tomato sauce, a single sheet of mozzarella and sharp and mild grated cheeses atop a thin, crispy crust.\\n21.\\xa0Louie & Ernie’s\\nLouie and Ernie's homey facade is as iconic as any pizza shop in town; a true\\xa0hearth\\xa0for slice lovers and pie devotees. Best New York pizza\\n1.\\xa0Di Fara Pizza\\nYes, you may have to wait for more than an hour to try this Midwood institution,\\xa0but a trip to the original standard-setting\\xa0shop founded by the late\\xa0Domenico DeMarco in 1965 is essential for pizza lovers and dabblers everywhere. 24.\\xa0Saraghina\\nNamed for a character in the film\\xa08 1/2, Saraghina's pizza's at least a 9.\\xa0Mingle your Coppa & Carciofi\\xa0(mozzarella, hot coppa, roasted spicy artichokes and basil) with wine by the liter; an option there ought to be more of in this town.\\n The namesake pie, the Rubirosa Supreme,\\xa0features a salty-sweet medley\\xa0of hand-cut spicy pepperoni, diced basil, and mini\\xa0meatballs atop a firm crust that's both strong enough to withstand the weight of the ingredients and soft enough to fold like you mean it.\\n\", 'Check out our map below revealing the most popular pizza joint in every major U.S. city and its Yelp rating. The Most Popular Pizzeria in Every City Atlanta, Georgia: Antico Pizza (4.3)', \"Ribalta (New York City) Ken's Artisan Pizza (Portland, Oregon) Jay's (Kenmore, New York) Don Antonio (New York City) Pizzeria Sei (Los Angeles) La Leggenda (Miami) Robert's (Chicago) 50 Top ...\", \"Pizza & Wings Delivery. Introducing our new Late Night food delivery and carryout! Now you can order your favorites until midnight or later. Indulge in a late-night feast with Pizza Hut. We've got your favorite pizzas, wings, desserts, and more, all ready to satisfy your cravings! Whether you're winding down for the night or need a delicious ...\", 'Does Pizza Hut Offer Late Night Delivery? Order Pizza Hut and let us bring the party to you. Use our store locator to check if your local Pizza Hut offers late night delivery. Thousands of stores are open till 11 pm. or later so what are you waiting for? Start your order now and hot pizza, wings and more will follow straight to your door.', 'The act of discussing a pizza may break down barriers and foster a sense of sociability with customers. ... electronic systems to get to a more comprehensive target market while sustaining a personal link along with their neighborhood community. Final thought. Pizza restaurants are even more than just puts to consume- they are actually area ...', 'Creating a sense of community within your neighborhood can be a fulfilling endeavor, and what better way to do it than by hosting a neighborhood pizza night? Making pizza is a truly unique and engaging community activity where everyone gets involved, from kids to adults. Unlike grilling burgers, where one person is usually in charge, pizza-making invites participation at every step. This ...', 'Research has shown that when you keep your money in the community, it gets reinvested into the community. In fact, small business owners tend to donate 250% more to community-based organizations and spend more of their profits in the community, rather than somewhere else. Your Local Pizza Shop Offers Unique Options.', 'The tradition of enjoying a Friday night pizza from the same place has a nostalgic and comforting appeal, creating a sense of continuity and shared history among community members. The Pizzeria as ...', 'The Role of Pizzerias in Local Communities - Naples Pizzasw The Role of Pizzerias in Local Communities This article explores the multifaceted role of pizzerias in local communities, highlighting their impact on social cohesion, economic vitality, and cultural identity. In culturally diverse communities, pizzerias serve as platforms for culinary exploration and cultural exchange. Pizzerias also play a role in educating the community about food and nutrition. In conclusion, pizzerias are more than establishments that serve pizza—they are integral pillars of local communities that enhance social connections, support economic growth, preserve cultural heritage, and promote culinary diversity. Posted in Italian Pizza', 'The tradition of enjoying a Friday night pizza from the same place has a nostalgic and comforting appeal, creating a sense of continuity and shared history among community members. The Pizzeria as ...', \"Local suppliers play a significant role in providing pizza places with fresh, high-quality ingredients. Whether it's cheese, tomatoes, flour, or toppings like pepperoni and vegetables, pizza places often source their key ingredients from local farms and suppliers. These local suppliers help ensure that pizza places are able to create ...\", 'Acknowledging this, many local pizza parlors source ingredients from local farms and organic suppliers. This not only ensures fresher produce but also supports the local economy. Moreover, clean-label ingredients are on the rise, indicating a shift towards transparency. Customers now prefer products with fewer additives and preservatives.'], 'count': 1}}\n",
            "{'generate': {'lnode': 'generate', 'draft': \"## The Slice of Life: Exploring the Role of Pizza Shops in Communities \\n\\nPizza, that beloved dish of melted cheese, tangy sauce, and crispy crust, transcends cultural boundaries and unites people through its universal appeal.  But beyond simply satisfying our hunger, pizza shops have become integral parts of communities, serving as gathering spots, economic cornerstones, and even cultural landmarks. These establishments offer more than just delicious food; they provide a sense of belonging, support local businesses, and contribute to the unique character of a neighborhood.\\n\\nOne of the most significant ways pizza shops impact communities is by fostering a sense of connection. Whether it's a casual slice with friends after school or a family gathering around a large pie, pizza shops provide a welcoming atmosphere for people to connect and share experiences.  The act of ordering, waiting for the pizza to cook, and then enjoying it together creates a shared ritual that strengthens social bonds. Moreover, the familiar faces of local pizza shop owners and staff often become familiar friends, adding a personal touch to the experience and creating a sense of belonging.\\n\\nBeyond social connections, pizza shops also contribute to the economic vitality of their neighborhoods. They often source ingredients locally, supporting farmers and producers. This, in turn, creates a ripple effect, boosting the local economy and fostering a sense of interdependence. Additionally, pizza shops provide employment opportunities for residents, contributing to the overall well-being of the community.  From the delivery driver to the chef, these jobs provide income and support local families. Ultimately, the success of a pizza shop is intertwined with the prosperity of the community it serves, making it a vital contributor to the neighborhood's economic health.\\n\\n\\n\\n\", 'revision_number': 3, 'count': 1}}\n"
          ]
        }
      ]
    },
    {
      "cell_type": "code",
      "source": [],
      "metadata": {
        "id": "EgzJnamWWphg"
      },
      "execution_count": null,
      "outputs": []
    }
  ]
}